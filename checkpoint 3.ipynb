{
 "cells": [
  {
   "cell_type": "code",
   "execution_count": 47,
   "id": "f6ff4a41",
   "metadata": {},
   "outputs": [
    {
     "data": {
      "text/plain": [
       "4320"
      ]
     },
     "execution_count": 47,
     "metadata": {},
     "output_type": "execute_result"
    }
   ],
   "source": [
    "#number 1\n",
    "list = [2,8,9,5,6]\n",
    "\n",
    "from math import prod\n",
    "prod(list)\n"
   ]
  },
  {
   "cell_type": "code",
   "execution_count": 29,
   "id": "db19f71e",
   "metadata": {},
   "outputs": [
    {
     "data": {
      "text/plain": [
       "[[1, 0], [9, 1], [8, 3], [4, 3], [5, 5], [0, 6], [3, 7]]"
      ]
     },
     "execution_count": 29,
     "metadata": {},
     "output_type": "execute_result"
    }
   ],
   "source": [
    "list=[[8,3],[3,7],[4,3],[9,1],[5,5],[0,6],[1,0]] #number 2\n",
    "      \n",
    "def sortbysec(element):\n",
    "    return element[1]\n",
    "\n",
    "list.sort(key=sortbysec)\n",
    "list"
   ]
  },
  {
   "cell_type": "code",
   "execution_count": 56,
   "id": "7ae081f1",
   "metadata": {},
   "outputs": [],
   "source": [
    "#number 3\n",
    "d1 = {'a':100, 'b':200, 'c':500}\n",
    "d2 = {'a':300, 'd':250, 'c':700}\n",
    "\n",
    "\n"
   ]
  },
  {
   "cell_type": "code",
   "execution_count": 45,
   "id": "f1750a86",
   "metadata": {
    "scrolled": true
   },
   "outputs": [
    {
     "data": {
      "text/plain": [
       "[(0, 0), (1, 1), (2, 8), (3, 27), (4, 64), (5, 125)]"
      ]
     },
     "execution_count": 45,
     "metadata": {},
     "output_type": "execute_result"
    }
   ],
   "source": [
    "# create a list of 2-tuples like (number, square)\n",
    "[(x, x**2) for x in range(6)]\n",
    "    \n",
    "    \n",
    "    \n",
    " #number 4"
   ]
  },
  {
   "cell_type": "code",
   "execution_count": 53,
   "id": "c30e3d68",
   "metadata": {
    "scrolled": true
   },
   "outputs": [
    {
     "data": {
      "text/plain": [
       "[('c', '1.34'), ('a', '2.30'), ('b', '3.60')]"
      ]
     },
     "execution_count": 53,
     "metadata": {},
     "output_type": "execute_result"
    }
   ],
   "source": [
    "#number 5\n",
    "list=[('a', '2.30'),('b', '3.60'),('c', '1.34')]\n",
    "\n",
    "def sortbysec(element):\n",
    "    return element[1]\n",
    "\n",
    "list.sort(key=sortbysec)\n",
    "list\n"
   ]
  },
  {
   "cell_type": "code",
   "execution_count": null,
   "id": "acc406d4",
   "metadata": {},
   "outputs": [],
   "source": [
    "\n",
    "\n"
   ]
  },
  {
   "cell_type": "code",
   "execution_count": null,
   "id": "49979602",
   "metadata": {},
   "outputs": [],
   "source": []
  }
 ],
 "metadata": {
  "kernelspec": {
   "display_name": "Python 3 (ipykernel)",
   "language": "python",
   "name": "python3"
  },
  "language_info": {
   "codemirror_mode": {
    "name": "ipython",
    "version": 3
   },
   "file_extension": ".py",
   "mimetype": "text/x-python",
   "name": "python",
   "nbconvert_exporter": "python",
   "pygments_lexer": "ipython3",
   "version": "3.9.7"
  }
 },
 "nbformat": 4,
 "nbformat_minor": 5
}
